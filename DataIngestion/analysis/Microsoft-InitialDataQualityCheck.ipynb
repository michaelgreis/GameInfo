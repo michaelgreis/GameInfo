{
 "cells": [
  {
   "cell_type": "code",
   "execution_count": 6,
   "metadata": {
    "collapsed": true
   },
   "outputs": [],
   "source": [
    "import os\n",
    "import json\n",
    "import pandas as pd"
   ]
  },
  {
   "cell_type": "code",
   "execution_count": 7,
   "metadata": {
    "collapsed": true
   },
   "outputs": [],
   "source": [
    "file_data = open(os.path.abspath('C:/Users/michael/Documents/CodingProjects/GameInfo/DataIngestion/outputfiles/marketplace.xbox.com1503702632.9313571.json'),\n",
    "                 'r',encoding='utf-8')"
   ]
  },
  {
   "cell_type": "code",
   "execution_count": 8,
   "metadata": {},
   "outputs": [],
   "source": [
    "\n",
    "json_data = json.loads(file_data.read())"
   ]
  },
  {
   "cell_type": "code",
   "execution_count": 9,
   "metadata": {},
   "outputs": [
    {
     "name": "stdout",
     "output_type": "stream",
     "text": [
      "{'totalEntries': 2, 'allResultsUrl': '/en-US/Search?query=%5BCleaner%5D', 'entries': [{'title': 'DERP of DUTY', 'parentTitle': '', 'detailsUrl': '/en-US/Product/DERP-of-DUTY/66acd000-77fe-1000-9115-d80258550d4e', 'image': 'http://download.xbox.com:80/content/xna/assets/58550D4E_World/xboxboxart.jpg', 'downloadTypeClass': 'Game', 'downloadTypeText': 'Game', 'prices': {'silver': '$1.00', 'gold': '$1.00'}}, {'title': \"Monaco: What's Yours is Mine\", 'parentTitle': \"Monaco: What's Yours is Mine\", 'detailsUrl': '/en-US/Product/Monaco-Whats-Yours-is-Mine/7cf05af5-f884-46c3-a6d8-d8767f3f005a', 'image': 'http://download.xbox.com/content/images/66acd000-77fe-1000-9115-d80258411297/1033/boxartlg.jpg', 'downloadTypeClass': 'GameVideo', 'downloadTypeText': 'Video', 'prices': {'silver': 'Free', 'gold': 'Free'}}]}\n"
     ]
    }
   ],
   "source": [
    "print(json_data[30])"
   ]
  },
  {
   "cell_type": "code",
   "execution_count": null,
   "metadata": {
    "collapsed": true
   },
   "outputs": [],
   "source": []
  }
 ],
 "metadata": {
  "kernelspec": {
   "display_name": "Python 3",
   "language": "python",
   "name": "python3"
  },
  "language_info": {
   "codemirror_mode": {
    "name": "ipython",
    "version": 3
   },
   "file_extension": ".py",
   "mimetype": "text/x-python",
   "name": "python",
   "nbconvert_exporter": "python",
   "pygments_lexer": "ipython3",
   "version": "3.6.1"
  }
 },
 "nbformat": 4,
 "nbformat_minor": 2
}
